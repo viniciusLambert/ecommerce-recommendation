{
 "cells": [
  {
   "cell_type": "markdown",
   "id": "646bc3f6",
   "metadata": {},
   "source": [
    "# Recomendações cervejeiras.\n",
    "\n",
    "In this notebook, you will be putting your recommendation skills to use on real data from the IBM Watson Studio platform. \n",
    "\n",
    "\n",
    "## Table of Contents\n",
    "\n",
    "I. [Exploratory Data Analysis](#Exploratory-Data-Analysis)<br>\n",
    "II. [Rank Based Recommendations](#Rank)<br>\n",
    "III. [User-User Based Collaborative Filtering](#User-User)<br>\n",
    "IV. [Content Based Recommendations (EXTRA - NOT REQUIRED)](#Content-Recs)<br>\n",
    "V. [Matrix Factorization](#Matrix-Fact)<br>\n",
    "VI. [Extras & Concluding](#conclusions)\n"
   ]
  },
  {
   "cell_type": "code",
   "execution_count": 1,
   "id": "a893099d",
   "metadata": {},
   "outputs": [
    {
     "data": {
      "text/html": [
       "<div>\n",
       "<style scoped>\n",
       "    .dataframe tbody tr th:only-of-type {\n",
       "        vertical-align: middle;\n",
       "    }\n",
       "\n",
       "    .dataframe tbody tr th {\n",
       "        vertical-align: top;\n",
       "    }\n",
       "\n",
       "    .dataframe thead th {\n",
       "        text-align: right;\n",
       "    }\n",
       "</style>\n",
       "<table border=\"1\" class=\"dataframe\">\n",
       "  <thead>\n",
       "    <tr style=\"text-align: right;\">\n",
       "      <th></th>\n",
       "      <th>product_id</th>\n",
       "      <th>order_id</th>\n",
       "      <th>user_id</th>\n",
       "    </tr>\n",
       "  </thead>\n",
       "  <tbody>\n",
       "    <tr>\n",
       "      <th>0</th>\n",
       "      <td>2187</td>\n",
       "      <td>2310942933416673977</td>\n",
       "      <td>8147</td>\n",
       "    </tr>\n",
       "    <tr>\n",
       "      <th>1</th>\n",
       "      <td>2059</td>\n",
       "      <td>2316136337087922698</td>\n",
       "      <td>8642</td>\n",
       "    </tr>\n",
       "    <tr>\n",
       "      <th>2</th>\n",
       "      <td>2057</td>\n",
       "      <td>2316746918924911613</td>\n",
       "      <td>8563</td>\n",
       "    </tr>\n",
       "    <tr>\n",
       "      <th>3</th>\n",
       "      <td>2133</td>\n",
       "      <td>2316899056305045560</td>\n",
       "      <td>9990</td>\n",
       "    </tr>\n",
       "    <tr>\n",
       "      <th>4</th>\n",
       "      <td>1988</td>\n",
       "      <td>2317477536566608607</td>\n",
       "      <td>9437</td>\n",
       "    </tr>\n",
       "  </tbody>\n",
       "</table>\n",
       "</div>"
      ],
      "text/plain": [
       "   product_id             order_id  user_id\n",
       "0        2187  2310942933416673977     8147\n",
       "1        2059  2316136337087922698     8642\n",
       "2        2057  2316746918924911613     8563\n",
       "3        2133  2316899056305045560     9990\n",
       "4        1988  2317477536566608607     9437"
      ]
     },
     "execution_count": 1,
     "metadata": {},
     "output_type": "execute_result"
    }
   ],
   "source": [
    "import pandas as pd\n",
    "import numpy as np\n",
    "import matplotlib.pyplot as plt\n",
    "import seaborn as sns\n",
    "\n",
    "%matplotlib inline\n",
    "\n",
    "df = pd.read_csv('data/user_interactions.csv')\n",
    "df_beer = pd.read_csv('data/clean_beers.csv')\n",
    "del df['Unnamed: 0']\n",
    "del df_beer['Unnamed: 0']\n",
    "\n",
    "# Show df to get an idea of the data\n",
    "df.head()"
   ]
  },
  {
   "cell_type": "code",
   "execution_count": 1,
   "id": "551d9116",
   "metadata": {},
   "outputs": [
    {
     "ename": "NameError",
     "evalue": "name 'df_beer' is not defined",
     "output_type": "error",
     "traceback": [
      "\u001b[0;31m---------------------------------------------------------------------------\u001b[0m",
      "\u001b[0;31mNameError\u001b[0m                                 Traceback (most recent call last)",
      "\u001b[0;32m/tmp/ipykernel_7868/1362282495.py\u001b[0m in \u001b[0;36m<module>\u001b[0;34m\u001b[0m\n\u001b[0;32m----> 1\u001b[0;31m \u001b[0mprint\u001b[0m\u001b[0;34m(\u001b[0m\u001b[0mdf_beer\u001b[0m\u001b[0;34m.\u001b[0m\u001b[0mshape\u001b[0m\u001b[0;34m)\u001b[0m\u001b[0;34m\u001b[0m\u001b[0;34m\u001b[0m\u001b[0m\n\u001b[0m\u001b[1;32m      2\u001b[0m \u001b[0mdf_beer\u001b[0m\u001b[0;34m.\u001b[0m\u001b[0mhead\u001b[0m\u001b[0;34m(\u001b[0m\u001b[0;34m)\u001b[0m\u001b[0;34m\u001b[0m\u001b[0;34m\u001b[0m\u001b[0m\n",
      "\u001b[0;31mNameError\u001b[0m: name 'df_beer' is not defined"
     ]
    }
   ],
   "source": [
    "print(df_beer.shape)\n",
    "df_beer.head()"
   ]
  },
  {
   "cell_type": "markdown",
   "id": "34526494",
   "metadata": {},
   "source": [
    "### <a class=\"anchor\" id=\"Exploratory-Data-Analysis\">Part I : Exploratory Data Analysis</a>"
   ]
  },
  {
   "cell_type": "code",
   "execution_count": 3,
   "id": "08520005",
   "metadata": {},
   "outputs": [
    {
     "data": {
      "text/plain": [
       "count    10256.000000\n",
       "mean         2.744150\n",
       "std          6.529046\n",
       "min          1.000000\n",
       "25%          1.000000\n",
       "50%          1.000000\n",
       "75%          2.000000\n",
       "max        123.000000\n",
       "Name: user_id, dtype: float64"
      ]
     },
     "execution_count": 3,
     "metadata": {},
     "output_type": "execute_result"
    }
   ],
   "source": [
    "df[\"user_id\"].value_counts().describe()"
   ]
  },
  {
   "cell_type": "code",
   "execution_count": 4,
   "id": "f64d975b",
   "metadata": {
    "scrolled": true
   },
   "outputs": [
    {
     "data": {
      "text/plain": [
       "<AxesSubplot:>"
      ]
     },
     "execution_count": 4,
     "metadata": {},
     "output_type": "execute_result"
    },
    {
     "data": {
      "image/png": "[encoded data removed]",
      "text/plain": [
       "<Figure size 432x288 with 1 Axes>"
      ]
     },
     "metadata": {
      "needs_background": "light"
     },
     "output_type": "display_data"
    }
   ],
   "source": [
    "df[\"user_id\"].value_counts().hist(bins = 50)"
   ]
  },
  {
   "cell_type": "code",
   "execution_count": 5,
   "id": "20943560",
   "metadata": {},
   "outputs": [
    {
     "data": {
      "text/html": [
       "<div>\n",
       "<style scoped>\n",
       "    .dataframe tbody tr th:only-of-type {\n",
       "        vertical-align: middle;\n",
       "    }\n",
       "\n",
       "    .dataframe tbody tr th {\n",
       "        vertical-align: top;\n",
       "    }\n",
       "\n",
       "    .dataframe thead th {\n",
       "        text-align: right;\n",
       "    }\n",
       "</style>\n",
       "<table border=\"1\" class=\"dataframe\">\n",
       "  <thead>\n",
       "    <tr style=\"text-align: right;\">\n",
       "      <th></th>\n",
       "      <th>abv</th>\n",
       "      <th>ibu</th>\n",
       "      <th>id</th>\n",
       "      <th>name</th>\n",
       "      <th>style</th>\n",
       "      <th>ounces</th>\n",
       "    </tr>\n",
       "  </thead>\n",
       "  <tbody>\n",
       "  </tbody>\n",
       "</table>\n",
       "</div>"
      ],
      "text/plain": [
       "Empty DataFrame\n",
       "Columns: [abv, ibu, id, name, style, ounces]\n",
       "Index: []"
      ]
     },
     "execution_count": 5,
     "metadata": {},
     "output_type": "execute_result"
    }
   ],
   "source": [
    "df_beer[df_beer.duplicated(\"id\")]"
   ]
  },
  {
   "cell_type": "code",
   "execution_count": 6,
   "id": "f4606a79",
   "metadata": {},
   "outputs": [
    {
     "name": "stdout",
     "output_type": "stream",
     "text": [
      "Cervejas com ao menos uma compra 2409\n",
      "Total de Cervejas cadastradas 2410\n",
      "Usuários unicos 10256\n",
      "Total de compras feitas 28144\n"
     ]
    }
   ],
   "source": [
    "print(f\"Cervejas com ao menos uma compra {df['product_id'].unique().shape[0]}\") \n",
    "print(f\"Total de Cervejas cadastradas {df_beer.shape[0]}\")\n",
    "print(f\"Usuários unicos {df['user_id'].value_counts().shape[0]}\")\n",
    "print(f\"Total de compras feitas {df.shape[0]}\")"
   ]
  },
  {
   "cell_type": "code",
   "execution_count": 7,
   "id": "72fc2f8d",
   "metadata": {},
   "outputs": [
    {
     "name": "stdout",
     "output_type": "stream",
     "text": [
      "A cerveja mais comprada foi People's Pilsner\n",
      "Com 601 compras\n"
     ]
    }
   ],
   "source": [
    "most_bought_beer_id = df.product_id.value_counts().index.to_list()[0]\n",
    "most_bought_beer = df_beer.loc[df_beer['id'] == most_bought_beer_id].iloc[0][\"name\"]\n",
    "\n",
    "print(f\"A cerveja mais comprada foi {most_bought_beer}\")\n",
    "print(f\"Com {df['product_id'].value_counts().max()} compras\")"
   ]
  },
  {
   "cell_type": "markdown",
   "id": "68247109",
   "metadata": {},
   "source": [
    "### <a class=\"anchor\" id=\"Rank\">Part II: Rank-Based Recommendations</a>\n"
   ]
  },
  {
   "cell_type": "markdown",
   "id": "56666f61",
   "metadata": {},
   "source": [
    "TOP N cerveja mais compradas"
   ]
  },
  {
   "cell_type": "code",
   "execution_count": 8,
   "id": "00392ee5",
   "metadata": {},
   "outputs": [
    {
     "data": {
      "text/plain": [
       "0                   Pub Beer\n",
       "1                Devil's Cup\n",
       "2        Rise of the Phoenix\n",
       "3                   Sinister\n",
       "4              Sex and Candy\n",
       "                ...         \n",
       "2405               Belgorado\n",
       "2406           Rail Yard Ale\n",
       "2407         B3K Black Lager\n",
       "2408     Silverback Pale Ale\n",
       "2409    Rail Yard Ale (2009)\n",
       "Name: name, Length: 2410, dtype: object"
      ]
     },
     "execution_count": 8,
     "metadata": {},
     "output_type": "execute_result"
    }
   ],
   "source": [
    "df_beer.name"
   ]
  },
  {
   "cell_type": "code",
   "execution_count": 9,
   "id": "27315b2b",
   "metadata": {},
   "outputs": [
    {
     "name": "stdout",
     "output_type": "stream",
     "text": [
      "[874, 1079, 424, 626, 296, 1399, 1096, 1098, 1986, 1871]\n"
     ]
    },
    {
     "data": {
      "text/plain": [
       "[\"People's Pilsner\",\n",
       " 'Seven Gates Pale Ale',\n",
       " 'Rise of the Phoenix',\n",
       " 'Fear of a Brett Planet',\n",
       " 'Nonstop Hef Hop',\n",
       " \"JP's Ould Sod Irish Red IPA\",\n",
       " 'Lemon Shandy Tripel',\n",
       " 'Killer Whale Cream Ale',\n",
       " \"Mountain Livin' Pale Ale\",\n",
       " \"Dale's Pale Ale (2003)\"]"
      ]
     },
     "execution_count": 9,
     "metadata": {},
     "output_type": "execute_result"
    }
   ],
   "source": [
    "n = 10\n",
    "\n",
    "ids = df.product_id.value_counts().head(n).index.to_list()\n",
    "print(ids)\n",
    "\n",
    "top_beers = [df_beer.loc[df_beer.id == i].iloc[0]['name'] for i in ids]\n",
    "\n",
    "top_beers"
   ]
  },
  {
   "cell_type": "code",
   "execution_count": 10,
   "id": "dd5ebc82",
   "metadata": {},
   "outputs": [],
   "source": [
    "def get_top_beers_ids(n, df=df):\n",
    "    '''\n",
    "    INPUT:\n",
    "    n - (int) the number of top beers to return\n",
    "    df - (pandas dataframe) df as defined at the top of the notebook \n",
    "    \n",
    "    OUTPUT:\n",
    "    top_articles - (list) A list of the top 'n' beers ids \n",
    "    '''\n",
    "    \n",
    "    top_beers_ids = df.product_id.value_counts().head(n).index.to_list()\n",
    "    \n",
    "    return top_beers_ids \n",
    "\n",
    "def get_top_beers(n, df=df_beer):\n",
    "    '''\n",
    "    INPUT:\n",
    "    n - (int) the number of top articles to return\n",
    "    df - (pandas dataframe) df as defined at the top of the notebook \n",
    "    \n",
    "    OUTPUT:\n",
    "    top_articles - (list) A list of the top 'n' article titles \n",
    "    '''\n",
    "    \n",
    "    top_beers_ids = get_top_beers_ids(n)\n",
    "    \n",
    "    top_beers = [\n",
    "        df_beer.loc[df_beer.id == i].iloc[0]['name'] \n",
    "        for i in top_beers_ids\n",
    "    ]\n",
    "    \n",
    "    return top_beers"
   ]
  },
  {
   "cell_type": "code",
   "execution_count": 11,
   "id": "130b7dcd",
   "metadata": {},
   "outputs": [
    {
     "data": {
      "text/plain": [
       "[\"People's Pilsner\",\n",
       " 'Seven Gates Pale Ale',\n",
       " 'Rise of the Phoenix',\n",
       " 'Fear of a Brett Planet',\n",
       " 'Nonstop Hef Hop',\n",
       " \"JP's Ould Sod Irish Red IPA\",\n",
       " 'Lemon Shandy Tripel',\n",
       " 'Killer Whale Cream Ale',\n",
       " \"Mountain Livin' Pale Ale\",\n",
       " \"Dale's Pale Ale (2003)\"]"
      ]
     },
     "execution_count": 11,
     "metadata": {},
     "output_type": "execute_result"
    }
   ],
   "source": [
    "get_top_beers_ids(10)\n",
    "get_top_beers(10)"
   ]
  },
  {
   "cell_type": "markdown",
   "id": "13da7651",
   "metadata": {},
   "source": [
    "Então caso um usuário seja novo na aplicação e não tenhamos um a triagem inicial, uma \"boa\" opção é a recomendação de uma das mais populares."
   ]
  },
  {
   "cell_type": "markdown",
   "id": "9b6db3f6",
   "metadata": {},
   "source": [
    "### <a class=\"anchor\" id=\"User-User\">Part III: User-User Based Collaborative Filtering</a>\n"
   ]
  },
  {
   "cell_type": "code",
   "execution_count": 12,
   "id": "349bf1c3",
   "metadata": {
    "scrolled": true
   },
   "outputs": [],
   "source": [
    "# create the user-article matrix with 1's and 0's\n",
    "\n",
    "def create_user_item_matrix(df):\n",
    "    '''\n",
    "    INPUT:\n",
    "    df - pandas dataframe with user_id, order_id, product_id columns\n",
    "    \n",
    "    OUTPUT:\n",
    "    user_item - user item matrix \n",
    "    \n",
    "    Description:\n",
    "    Return a matrix with user ids as rows and product ids on the columns with 1 values where a user puchase a beer\n",
    "    and a 0 otherwise\n",
    "    '''\n",
    "    \n",
    "    nan_matrix = df.groupby(['user_id', 'product_id'])['order_id'].count().unstack()\n",
    "    user_item = nan_matrix.notnull().astype(int) \n",
    "    \n",
    "    return user_item  \n"
   ]
  },
  {
   "cell_type": "code",
   "execution_count": 13,
   "id": "8f0676be",
   "metadata": {},
   "outputs": [
    {
     "name": "stdout",
     "output_type": "stream",
     "text": [
      "(10256, 2409)\n"
     ]
    },
    {
     "data": {
      "text/html": [
       "<div>\n",
       "<style scoped>\n",
       "    .dataframe tbody tr th:only-of-type {\n",
       "        vertical-align: middle;\n",
       "    }\n",
       "\n",
       "    .dataframe tbody tr th {\n",
       "        vertical-align: top;\n",
       "    }\n",
       "\n",
       "    .dataframe thead th {\n",
       "        text-align: right;\n",
       "    }\n",
       "</style>\n",
       "<table border=\"1\" class=\"dataframe\">\n",
       "  <thead>\n",
       "    <tr style=\"text-align: right;\">\n",
       "      <th>product_id</th>\n",
       "      <th>1</th>\n",
       "      <th>2</th>\n",
       "      <th>3</th>\n",
       "      <th>4</th>\n",
       "      <th>5</th>\n",
       "      <th>6</th>\n",
       "      <th>7</th>\n",
       "      <th>8</th>\n",
       "      <th>9</th>\n",
       "      <th>10</th>\n",
       "      <th>...</th>\n",
       "      <th>2400</th>\n",
       "      <th>2401</th>\n",
       "      <th>2402</th>\n",
       "      <th>2403</th>\n",
       "      <th>2404</th>\n",
       "      <th>2405</th>\n",
       "      <th>2406</th>\n",
       "      <th>2407</th>\n",
       "      <th>2408</th>\n",
       "      <th>2409</th>\n",
       "    </tr>\n",
       "    <tr>\n",
       "      <th>user_id</th>\n",
       "      <th></th>\n",
       "      <th></th>\n",
       "      <th></th>\n",
       "      <th></th>\n",
       "      <th></th>\n",
       "      <th></th>\n",
       "      <th></th>\n",
       "      <th></th>\n",
       "      <th></th>\n",
       "      <th></th>\n",
       "      <th></th>\n",
       "      <th></th>\n",
       "      <th></th>\n",
       "      <th></th>\n",
       "      <th></th>\n",
       "      <th></th>\n",
       "      <th></th>\n",
       "      <th></th>\n",
       "      <th></th>\n",
       "      <th></th>\n",
       "      <th></th>\n",
       "    </tr>\n",
       "  </thead>\n",
       "  <tbody>\n",
       "    <tr>\n",
       "      <th>1</th>\n",
       "      <td>0</td>\n",
       "      <td>0</td>\n",
       "      <td>0</td>\n",
       "      <td>0</td>\n",
       "      <td>0</td>\n",
       "      <td>0</td>\n",
       "      <td>0</td>\n",
       "      <td>0</td>\n",
       "      <td>0</td>\n",
       "      <td>0</td>\n",
       "      <td>...</td>\n",
       "      <td>0</td>\n",
       "      <td>0</td>\n",
       "      <td>0</td>\n",
       "      <td>0</td>\n",
       "      <td>0</td>\n",
       "      <td>0</td>\n",
       "      <td>0</td>\n",
       "      <td>0</td>\n",
       "      <td>0</td>\n",
       "      <td>0</td>\n",
       "    </tr>\n",
       "    <tr>\n",
       "      <th>2</th>\n",
       "      <td>0</td>\n",
       "      <td>0</td>\n",
       "      <td>0</td>\n",
       "      <td>0</td>\n",
       "      <td>0</td>\n",
       "      <td>0</td>\n",
       "      <td>0</td>\n",
       "      <td>0</td>\n",
       "      <td>0</td>\n",
       "      <td>0</td>\n",
       "      <td>...</td>\n",
       "      <td>0</td>\n",
       "      <td>0</td>\n",
       "      <td>0</td>\n",
       "      <td>0</td>\n",
       "      <td>0</td>\n",
       "      <td>0</td>\n",
       "      <td>0</td>\n",
       "      <td>0</td>\n",
       "      <td>0</td>\n",
       "      <td>0</td>\n",
       "    </tr>\n",
       "    <tr>\n",
       "      <th>3</th>\n",
       "      <td>0</td>\n",
       "      <td>0</td>\n",
       "      <td>0</td>\n",
       "      <td>0</td>\n",
       "      <td>0</td>\n",
       "      <td>0</td>\n",
       "      <td>0</td>\n",
       "      <td>0</td>\n",
       "      <td>0</td>\n",
       "      <td>0</td>\n",
       "      <td>...</td>\n",
       "      <td>0</td>\n",
       "      <td>0</td>\n",
       "      <td>0</td>\n",
       "      <td>0</td>\n",
       "      <td>0</td>\n",
       "      <td>0</td>\n",
       "      <td>0</td>\n",
       "      <td>0</td>\n",
       "      <td>0</td>\n",
       "      <td>0</td>\n",
       "    </tr>\n",
       "    <tr>\n",
       "      <th>4</th>\n",
       "      <td>0</td>\n",
       "      <td>0</td>\n",
       "      <td>0</td>\n",
       "      <td>0</td>\n",
       "      <td>0</td>\n",
       "      <td>0</td>\n",
       "      <td>0</td>\n",
       "      <td>0</td>\n",
       "      <td>0</td>\n",
       "      <td>0</td>\n",
       "      <td>...</td>\n",
       "      <td>0</td>\n",
       "      <td>0</td>\n",
       "      <td>0</td>\n",
       "      <td>0</td>\n",
       "      <td>0</td>\n",
       "      <td>0</td>\n",
       "      <td>0</td>\n",
       "      <td>0</td>\n",
       "      <td>0</td>\n",
       "      <td>0</td>\n",
       "    </tr>\n",
       "    <tr>\n",
       "      <th>5</th>\n",
       "      <td>0</td>\n",
       "      <td>0</td>\n",
       "      <td>0</td>\n",
       "      <td>0</td>\n",
       "      <td>0</td>\n",
       "      <td>0</td>\n",
       "      <td>0</td>\n",
       "      <td>0</td>\n",
       "      <td>0</td>\n",
       "      <td>0</td>\n",
       "      <td>...</td>\n",
       "      <td>0</td>\n",
       "      <td>0</td>\n",
       "      <td>0</td>\n",
       "      <td>0</td>\n",
       "      <td>0</td>\n",
       "      <td>0</td>\n",
       "      <td>0</td>\n",
       "      <td>0</td>\n",
       "      <td>0</td>\n",
       "      <td>0</td>\n",
       "    </tr>\n",
       "    <tr>\n",
       "      <th>...</th>\n",
       "      <td>...</td>\n",
       "      <td>...</td>\n",
       "      <td>...</td>\n",
       "      <td>...</td>\n",
       "      <td>...</td>\n",
       "      <td>...</td>\n",
       "      <td>...</td>\n",
       "      <td>...</td>\n",
       "      <td>...</td>\n",
       "      <td>...</td>\n",
       "      <td>...</td>\n",
       "      <td>...</td>\n",
       "      <td>...</td>\n",
       "      <td>...</td>\n",
       "      <td>...</td>\n",
       "      <td>...</td>\n",
       "      <td>...</td>\n",
       "      <td>...</td>\n",
       "      <td>...</td>\n",
       "      <td>...</td>\n",
       "      <td>...</td>\n",
       "    </tr>\n",
       "    <tr>\n",
       "      <th>10252</th>\n",
       "      <td>0</td>\n",
       "      <td>0</td>\n",
       "      <td>0</td>\n",
       "      <td>0</td>\n",
       "      <td>0</td>\n",
       "      <td>0</td>\n",
       "      <td>0</td>\n",
       "      <td>0</td>\n",
       "      <td>0</td>\n",
       "      <td>0</td>\n",
       "      <td>...</td>\n",
       "      <td>0</td>\n",
       "      <td>0</td>\n",
       "      <td>0</td>\n",
       "      <td>0</td>\n",
       "      <td>0</td>\n",
       "      <td>0</td>\n",
       "      <td>0</td>\n",
       "      <td>0</td>\n",
       "      <td>0</td>\n",
       "      <td>0</td>\n",
       "    </tr>\n",
       "    <tr>\n",
       "      <th>10253</th>\n",
       "      <td>0</td>\n",
       "      <td>0</td>\n",
       "      <td>0</td>\n",
       "      <td>0</td>\n",
       "      <td>0</td>\n",
       "      <td>0</td>\n",
       "      <td>0</td>\n",
       "      <td>0</td>\n",
       "      <td>0</td>\n",
       "      <td>0</td>\n",
       "      <td>...</td>\n",
       "      <td>0</td>\n",
       "      <td>0</td>\n",
       "      <td>0</td>\n",
       "      <td>0</td>\n",
       "      <td>0</td>\n",
       "      <td>0</td>\n",
       "      <td>0</td>\n",
       "      <td>0</td>\n",
       "      <td>0</td>\n",
       "      <td>0</td>\n",
       "    </tr>\n",
       "    <tr>\n",
       "      <th>10254</th>\n",
       "      <td>0</td>\n",
       "      <td>0</td>\n",
       "      <td>0</td>\n",
       "      <td>0</td>\n",
       "      <td>0</td>\n",
       "      <td>0</td>\n",
       "      <td>0</td>\n",
       "      <td>0</td>\n",
       "      <td>0</td>\n",
       "      <td>0</td>\n",
       "      <td>...</td>\n",
       "      <td>0</td>\n",
       "      <td>0</td>\n",
       "      <td>0</td>\n",
       "      <td>0</td>\n",
       "      <td>0</td>\n",
       "      <td>0</td>\n",
       "      <td>0</td>\n",
       "      <td>0</td>\n",
       "      <td>0</td>\n",
       "      <td>0</td>\n",
       "    </tr>\n",
       "    <tr>\n",
       "      <th>10255</th>\n",
       "      <td>0</td>\n",
       "      <td>0</td>\n",
       "      <td>0</td>\n",
       "      <td>0</td>\n",
       "      <td>0</td>\n",
       "      <td>0</td>\n",
       "      <td>0</td>\n",
       "      <td>0</td>\n",
       "      <td>0</td>\n",
       "      <td>0</td>\n",
       "      <td>...</td>\n",
       "      <td>0</td>\n",
       "      <td>0</td>\n",
       "      <td>0</td>\n",
       "      <td>0</td>\n",
       "      <td>0</td>\n",
       "      <td>0</td>\n",
       "      <td>0</td>\n",
       "      <td>0</td>\n",
       "      <td>0</td>\n",
       "      <td>0</td>\n",
       "    </tr>\n",
       "    <tr>\n",
       "      <th>10256</th>\n",
       "      <td>0</td>\n",
       "      <td>0</td>\n",
       "      <td>0</td>\n",
       "      <td>0</td>\n",
       "      <td>0</td>\n",
       "      <td>0</td>\n",
       "      <td>0</td>\n",
       "      <td>0</td>\n",
       "      <td>0</td>\n",
       "      <td>0</td>\n",
       "      <td>...</td>\n",
       "      <td>0</td>\n",
       "      <td>0</td>\n",
       "      <td>0</td>\n",
       "      <td>0</td>\n",
       "      <td>0</td>\n",
       "      <td>0</td>\n",
       "      <td>0</td>\n",
       "      <td>0</td>\n",
       "      <td>0</td>\n",
       "      <td>0</td>\n",
       "    </tr>\n",
       "  </tbody>\n",
       "</table>\n",
       "<p>10256 rows × 2409 columns</p>\n",
       "</div>"
      ],
      "text/plain": [
       "product_id  1     2     3     4     5     6     7     8     9     10    ...  \\\n",
       "user_id                                                                 ...   \n",
       "1              0     0     0     0     0     0     0     0     0     0  ...   \n",
       "2              0     0     0     0     0     0     0     0     0     0  ...   \n",
       "3              0     0     0     0     0     0     0     0     0     0  ...   \n",
       "4              0     0     0     0     0     0     0     0     0     0  ...   \n",
       "5              0     0     0     0     0     0     0     0     0     0  ...   \n",
       "...          ...   ...   ...   ...   ...   ...   ...   ...   ...   ...  ...   \n",
       "10252          0     0     0     0     0     0     0     0     0     0  ...   \n",
       "10253          0     0     0     0     0     0     0     0     0     0  ...   \n",
       "10254          0     0     0     0     0     0     0     0     0     0  ...   \n",
       "10255          0     0     0     0     0     0     0     0     0     0  ...   \n",
       "10256          0     0     0     0     0     0     0     0     0     0  ...   \n",
       "\n",
       "product_id  2400  2401  2402  2403  2404  2405  2406  2407  2408  2409  \n",
       "user_id                                                                 \n",
       "1              0     0     0     0     0     0     0     0     0     0  \n",
       "2              0     0     0     0     0     0     0     0     0     0  \n",
       "3              0     0     0     0     0     0     0     0     0     0  \n",
       "4              0     0     0     0     0     0     0     0     0     0  \n",
       "5              0     0     0     0     0     0     0     0     0     0  \n",
       "...          ...   ...   ...   ...   ...   ...   ...   ...   ...   ...  \n",
       "10252          0     0     0     0     0     0     0     0     0     0  \n",
       "10253          0     0     0     0     0     0     0     0     0     0  \n",
       "10254          0     0     0     0     0     0     0     0     0     0  \n",
       "10255          0     0     0     0     0     0     0     0     0     0  \n",
       "10256          0     0     0     0     0     0     0     0     0     0  \n",
       "\n",
       "[10256 rows x 2409 columns]"
      ]
     },
     "execution_count": 13,
     "metadata": {},
     "output_type": "execute_result"
    }
   ],
   "source": [
    "user_item = create_user_item_matrix(df)\n",
    "print(user_item.shape)\n",
    "user_item"
   ]
  },
  {
   "cell_type": "code",
   "execution_count": 14,
   "id": "2a48d4a1",
   "metadata": {},
   "outputs": [],
   "source": [
    "def find_similar_users(user_id, user_item=user_item):\n",
    "    '''\n",
    "    INPUT:\n",
    "    user_id - (int) a user_id\n",
    "    user_item - (pandas dataframe) matrix of users by beers: \n",
    "                1's when a user has interacted with an beer, 0 otherwise\n",
    "    \n",
    "    OUTPUT:\n",
    "    similar_users - (list) an ordered list where the closest users (largest dot product users)\n",
    "                    are listed first\n",
    "    \n",
    "    Description:\n",
    "    Computes the similarity of every pair of users based on the dot product\n",
    "    Returns an ordered\n",
    "    \n",
    "    '''\n",
    "    # compute similarity of each user to the provided user\n",
    "    similarity = user_item.dot(user_item.loc[user_id])\n",
    "    \n",
    "    # sort by similarity\n",
    "    similarity = similarity.sort_values(ascending=False)\n",
    "    # create list of just the ids\n",
    "    most_similar_users = similarity.index.to_list()\n",
    "    # remove the own user's id\n",
    "    most_similar_users.remove(user_id)\n",
    "    \n",
    "    return most_similar_users # return a list of the users in order from most to least similar"
   ]
  },
  {
   "cell_type": "code",
   "execution_count": 15,
   "id": "be4069d4",
   "metadata": {},
   "outputs": [
    {
     "data": {
      "text/plain": [
       "[934, 38, 175, 178, 45, 169, 96, 513, 235, 236]"
      ]
     },
     "execution_count": 15,
     "metadata": {},
     "output_type": "execute_result"
    }
   ],
   "source": [
    "find_similar_users(171)[:10]"
   ]
  },
  {
   "cell_type": "code",
   "execution_count": 16,
   "id": "18990b16",
   "metadata": {},
   "outputs": [],
   "source": [
    "def get_beer_names(beers_ids, df_beer=df_beer):\n",
    "    '''\n",
    "    INPUT:\n",
    "    beers_ids - (list) a list of beer ids\n",
    "    df_beer - (pandas dataframe) df as defined at the top of the notebook\n",
    "    \n",
    "    \n",
    "    OUTPUT:\n",
    "    beers_names - (list) a list of beers names associated with the list of beers ids \n",
    "                  (this is identified by the title column)\n",
    "    '''\n",
    "    \n",
    "    beers_names = [df_beer.loc[df_beer.id == int(i)].iloc[0][\"name\"] for i in beers_ids]\n",
    "    \n",
    "    return beers_names \n",
    "\n",
    "\n",
    "def get_user_beers(user_id, user_item=user_item):\n",
    "    '''\n",
    "    INPUT:\n",
    "    user_id - (int) a user id\n",
    "    user_item - (pandas dataframe) matrix of users by beers: \n",
    "                1's when a user has interacted with an beer, 0 otherwise\n",
    "    \n",
    "    OUTPUT:\n",
    "    beers_ids - (list) a list of the beer ids seen by the user\n",
    "    beers_names - (list) a list of beer names associated with the list of beer ids \n",
    "                    (this is identified by the doc_full_name column in df_content)\n",
    "    \n",
    "    Description:\n",
    "    Provides a list of the product_ids and beers names that have been seen by a user\n",
    "    '''\n",
    "    user_beers = user_item.loc[user_id]\n",
    "\n",
    "    beers_ids = []\n",
    "    for i, x in zip(user_beers.index, user_beers):\n",
    "        if x:\n",
    "            beers_ids.append(str(i))\n",
    "            \n",
    "    \n",
    "    beer_names = get_beer_names(beers_ids)\n",
    "    \n",
    "    return beers_ids, beer_names # return the ids and names\n",
    "\n",
    "\n",
    "def user_user_recs(user_id, m=10):\n",
    "    '''\n",
    "    INPUT:\n",
    "    user_id - (int) a user id\n",
    "    m - (int) the number of recommendations you want for the user\n",
    "    \n",
    "    OUTPUT:\n",
    "    recs - (list) a list of recommendations for the user\n",
    "    \n",
    "    Description:\n",
    "    Loops through the users based on closeness to the input user_id\n",
    "    For each user - finds beers the user hasn't seen before and provides them as recs\n",
    "    Does this until m recommendations are found\n",
    "    \n",
    "    Notes:\n",
    "    Users who are the same closeness are chosen arbitrarily as the 'next' user\n",
    "    \n",
    "    For the user where the number of recommended beers starts below m \n",
    "    and ends exceeding m, the last items are chosen arbitrarily\n",
    "    \n",
    "    '''\n",
    "    # Your code here\n",
    "    \n",
    "    similar_users = find_similar_users(user_id)\n",
    "    \n",
    "    user_beer_ids, user_beer_names = get_user_beers(user_id)\n",
    "    \n",
    "    recs = []\n",
    "    for user in similar_users:\n",
    "        beer_ids, beer_names = get_user_beers(user)\n",
    "        \n",
    "        for i in beer_ids:\n",
    "            if(i not in user_beer_ids and i not in recs):\n",
    "                recs.append(i)\n",
    "                if len(recs) >= m:\n",
    "                    return recs\n",
    "                \n",
    "    return recs # return your recommendations for this user_id  "
   ]
  },
  {
   "cell_type": "code",
   "execution_count": 17,
   "id": "5b007488",
   "metadata": {
    "scrolled": false
   },
   "outputs": [
    {
     "data": {
      "text/plain": [
       "['Misty Mountain Hop',\n",
       " 'One-Hit Wonderful',\n",
       " 'Alter Ego ',\n",
       " 'Oktoberfest',\n",
       " 'Straub Beer (Current)',\n",
       " 'Lighthouse Amber',\n",
       " 'Behemoth',\n",
       " 'Pretzel Stout',\n",
       " \"Devil's Cup\",\n",
       " 'Rise of the Phoenix']"
      ]
     },
     "execution_count": 17,
     "metadata": {},
     "output_type": "execute_result"
    }
   ],
   "source": [
    "# Check Results\n",
    "get_beer_names(user_user_recs(171, 10)) # Return 10 recommendations for user 171"
   ]
  },
  {
   "cell_type": "markdown",
   "id": "a7740db3",
   "metadata": {},
   "source": [
    "## Apesar de termos recomendações precisamos melhorar a consistencia\n",
    "\n",
    "* Diferente de escolher arbritrariamente, vamos escolher usuários com o maior numero de compras antes de escolher os de poucas compras.\n",
    "\n",
    "* No lugar de escolhermos cervejas arbitrariamente de usuários onde o numero de recomendações começa abaixo de m e termina excedendo m, escolheremos cervejas que tem o maior numero de interações totais antes de escolher aquelas com menores iterações totais."
   ]
  },
  {
   "cell_type": "code",
   "execution_count": 18,
   "id": "3c60c4a4",
   "metadata": {},
   "outputs": [],
   "source": [
    "def get_top_sorted_users(user_id, df=df, user_item=user_item):\n",
    "    '''\n",
    "    INPUT:\n",
    "    user_id - (int)\n",
    "    df - (pandas dataframe) df as defined at the top of the notebook \n",
    "    user_item - (pandas dataframe) matrix of users by beers: \n",
    "            1's when a user has interacted with an beer, 0 otherwise\n",
    "    \n",
    "            \n",
    "    OUTPUT:\n",
    "    neighbors_df - (pandas dataframe) a dataframe with:\n",
    "                    neighbor_id - is a neighbor user_id\n",
    "                    similarity - measure of the similarity of each user to the provided user_id\n",
    "                    num_interactions - the number of beers viewed by the user - if a u\n",
    "                    \n",
    "    Other Details - sort the neighbors_df by the similarity and then by number of interactions where \n",
    "                    highest of each is higher in the dataframe\n",
    "     \n",
    "    '''\n",
    "    # Your code here\n",
    "    similarity = user_item.dot(user_item.loc[user_id])\n",
    "    \n",
    "\n",
    "    neighbors_df = pd.DataFrame({\"neighbor_id\": similarity.index.to_list(), \n",
    "                                 \"similarity\": similarity.to_list(),\n",
    "                                 \"num_interactions\": [user_item.loc[i].sum() for i in similarity.index.to_list()]\n",
    "                                })\n",
    "    neighbors_df.sort_values(by = ['similarity', 'num_interactions'], ascending = [False, True], inplace=True)\n",
    "\n",
    "    neighbors_df.drop(neighbors_df.index[neighbors_df['neighbor_id'] == user_id], inplace=True)\n",
    "    \n",
    "    return neighbors_df # Return the dataframe specified in the doc_string\n",
    "\n",
    "\n",
    "def user_user_recs_2(user_id, m=10):\n",
    "    '''\n",
    "    INPUT:\n",
    "    user_id - (int) a user id\n",
    "    m - (int) the number of recommendations you want for the user\n",
    "    \n",
    "    OUTPUT:\n",
    "    recs - (list) a list of recommendations for the user by beer id\n",
    "    rec_names - (list) a list of recommendations for the user by beer title\n",
    "    \n",
    "    Description:\n",
    "    Loops through the users based on closeness to the input user_id\n",
    "    For each user - finds beers the user hasn't seen before and provides them as recs\n",
    "    Does this until m recommendations are found\n",
    "    \n",
    "    Notes:\n",
    "    * Choose the users that have the most total beer interactions \n",
    "    before choosing those with fewer beer interactions.\n",
    "\n",
    "    * Choose beers with the beers with the most total interactions \n",
    "    before choosing those with fewer total interactions. \n",
    "   \n",
    "    '''\n",
    "    # Your code here\n",
    "    \n",
    "    top_sorted_users = get_top_sorted_users(user_id)\n",
    "    \n",
    "    similar_users = find_similar_users(user_id)\n",
    "    \n",
    "    user_beer_ids, user_beer_names = get_user_beers(user_id)\n",
    "    \n",
    "    recs = []\n",
    "    for user in similar_users:\n",
    "        beer_ids, beer_names = get_user_beers(user)\n",
    "        \n",
    "        for i in beer_ids:\n",
    "            if(i not in user_beer_ids and i not in recs):\n",
    "                recs.append(i)\n",
    "                if len(recs) >= m:       \n",
    "                    return recs, get_beer_names(recs)\n",
    "                 \n",
    "    return recs, get_beer_names(recs)"
   ]
  },
  {
   "cell_type": "code",
   "execution_count": 19,
   "id": "16b00662",
   "metadata": {},
   "outputs": [
    {
     "name": "stdout",
     "output_type": "stream",
     "text": [
      "The top 10 recommendations for user 171 are the following article ids:\n",
      "['157', '158', '285', '307', '320', '335', '338', '420', '423', '424']\n",
      "\n",
      "The top 10 recommendations for user 171 are the following article names:\n",
      "['Misty Mountain Hop', 'One-Hit Wonderful', 'Alter Ego ', 'Oktoberfest', 'Straub Beer (Current)', 'Lighthouse Amber', 'Behemoth', 'Pretzel Stout', \"Devil's Cup\", 'Rise of the Phoenix']\n"
     ]
    }
   ],
   "source": [
    "rec_ids, rec_names = user_user_recs_2(171, 10)\n",
    "print(\"The top 10 recommendations for user 171 are the following article ids:\")\n",
    "print(rec_ids)\n",
    "print()\n",
    "print(\"The top 10 recommendations for user 171 are the following article names:\")\n",
    "print(rec_names)\n"
   ]
  },
  {
   "cell_type": "markdown",
   "id": "fbedeaf8",
   "metadata": {},
   "source": [
    "### <a class=\"anchor\" id=\"Content-Recs\">Part IV: Content Based Recommendations (EXTRA - NOT REQUIRED)</a>"
   ]
  },
  {
   "cell_type": "code",
   "execution_count": 20,
   "id": "e37404d7",
   "metadata": {},
   "outputs": [],
   "source": [
    "def get_beers_frequent_styles(beer_ids, min_influency=.1 , df_beer=df_beer):\n",
    "    \n",
    "    beers = df_beer[df_beer.id.isin(list(map(int,beer_ids)))] # get consumed beers\n",
    "    \n",
    "    \n",
    "    # GET recs by style\n",
    "    # show styles that represents at least min_influency of all purchases\n",
    "    top_styles = beers['style'].value_counts(normalize=True)[\n",
    "        beers['style'].value_counts(normalize=True) >= min_influency\n",
    "    ]\n",
    "    \n",
    "    user_top_styles = top_styles.index.to_list()\n",
    "    \n",
    "    return user_top_styles\n",
    "    \n",
    "def style_based_recs(user_id, m=10, df_beer=df_beer):\n",
    "    '''\n",
    "    Args:\n",
    "        user_id (bool) - if true, make recs based on user\n",
    "        m (int) - number of recommendations to give based on term\n",
    "    Returns:\n",
    "        recs (list) - list of beer ids that are recommended\n",
    "        rec_names (list) - list of beer names that are recommended   \n",
    "        \n",
    "        \n",
    "    Description:\n",
    "        Recommened beers based on user most consumed beer styles\n",
    "    '''\n",
    "    \n",
    "    beer_ids, _ = get_user_beers(user_id)  \n",
    "    \n",
    "    user_top_styles = get_beers_frequent_styles(beer_ids)\n",
    "    \n",
    "    \n",
    "    top_beers_ids = get_top_beers_ids(df_beer.shape[0])\n",
    "    \n",
    "    prefered_styles_beer = df_beer.loc[df_beer['style'].isin(user_top_styles)]\n",
    "        \n",
    "    top_recommendation_by_style = []\n",
    "    \n",
    "    \n",
    "    #Map beers id to int to use in for if's\n",
    "    beer_ids = map(int, beer_ids)\n",
    "    for i in top_beers_ids:\n",
    "        if len(top_recommendation_by_style) > m: break\n",
    "            \n",
    "        if (i in prefered_styles_beer['id'].values and i not in beer_ids):\n",
    "            top_recommendation_by_style.append(i)\n",
    "            \n",
    "\n",
    "    rec_names = get_beer_names(top_recommendation_by_style)\n",
    "    \n",
    "    return top_recommendation_by_style, rec_names\n",
    "    \n",
    "    "
   ]
  },
  {
   "cell_type": "code",
   "execution_count": 21,
   "id": "5297e6ae",
   "metadata": {
    "scrolled": false
   },
   "outputs": [
    {
     "name": "stdout",
     "output_type": "stream",
     "text": [
      "[1079, 424, 626, 1399, 1986, 1871, 1395, 865, 1947, 1976, 678]\n",
      "['Seven Gates Pale Ale', 'Rise of the Phoenix', 'Fear of a Brett Planet', \"JP's Ould Sod Irish Red IPA\", \"Mountain Livin' Pale Ale\", \"Dale's Pale Ale (2003)\", '5 Day IPA', 'Java the Hop', 'Indie Pale Ale', 'Desert Magic IPA', 'Fistful Of Hops Blue']\n"
     ]
    }
   ],
   "source": [
    "# make recommendations for a brand new user\n",
    "ids, names = style_based_recs(172, m = 10)\n",
    "\n",
    "print(ids)\n",
    "print(names)\n",
    "\n",
    "# make a recommendations for a user who only has interacted with article id '1427.0'\n",
    "\n",
    "#make_content_recs([1], user_id=False)"
   ]
  },
  {
   "cell_type": "markdown",
   "id": "8af099bf",
   "metadata": {},
   "source": [
    "### <a class=\"anchor\" id=\"Matrix-Fact\">Part V: Matrix Factorization</a>\n",
    "\n",
    "Unsupervisioned learning"
   ]
  },
  {
   "cell_type": "code",
   "execution_count": 22,
   "id": "751b9ad9",
   "metadata": {
    "scrolled": true
   },
   "outputs": [
    {
     "data": {
      "text/html": [
       "<div>\n",
       "<style scoped>\n",
       "    .dataframe tbody tr th:only-of-type {\n",
       "        vertical-align: middle;\n",
       "    }\n",
       "\n",
       "    .dataframe tbody tr th {\n",
       "        vertical-align: top;\n",
       "    }\n",
       "\n",
       "    .dataframe thead th {\n",
       "        text-align: right;\n",
       "    }\n",
       "</style>\n",
       "<table border=\"1\" class=\"dataframe\">\n",
       "  <thead>\n",
       "    <tr style=\"text-align: right;\">\n",
       "      <th>product_id</th>\n",
       "      <th>1</th>\n",
       "      <th>2</th>\n",
       "      <th>3</th>\n",
       "      <th>4</th>\n",
       "      <th>5</th>\n",
       "      <th>6</th>\n",
       "      <th>7</th>\n",
       "      <th>8</th>\n",
       "      <th>9</th>\n",
       "      <th>10</th>\n",
       "      <th>...</th>\n",
       "      <th>2400</th>\n",
       "      <th>2401</th>\n",
       "      <th>2402</th>\n",
       "      <th>2403</th>\n",
       "      <th>2404</th>\n",
       "      <th>2405</th>\n",
       "      <th>2406</th>\n",
       "      <th>2407</th>\n",
       "      <th>2408</th>\n",
       "      <th>2409</th>\n",
       "    </tr>\n",
       "    <tr>\n",
       "      <th>user_id</th>\n",
       "      <th></th>\n",
       "      <th></th>\n",
       "      <th></th>\n",
       "      <th></th>\n",
       "      <th></th>\n",
       "      <th></th>\n",
       "      <th></th>\n",
       "      <th></th>\n",
       "      <th></th>\n",
       "      <th></th>\n",
       "      <th></th>\n",
       "      <th></th>\n",
       "      <th></th>\n",
       "      <th></th>\n",
       "      <th></th>\n",
       "      <th></th>\n",
       "      <th></th>\n",
       "      <th></th>\n",
       "      <th></th>\n",
       "      <th></th>\n",
       "      <th></th>\n",
       "    </tr>\n",
       "  </thead>\n",
       "  <tbody>\n",
       "    <tr>\n",
       "      <th>1</th>\n",
       "      <td>0</td>\n",
       "      <td>0</td>\n",
       "      <td>0</td>\n",
       "      <td>0</td>\n",
       "      <td>0</td>\n",
       "      <td>0</td>\n",
       "      <td>0</td>\n",
       "      <td>0</td>\n",
       "      <td>0</td>\n",
       "      <td>0</td>\n",
       "      <td>...</td>\n",
       "      <td>0</td>\n",
       "      <td>0</td>\n",
       "      <td>0</td>\n",
       "      <td>0</td>\n",
       "      <td>0</td>\n",
       "      <td>0</td>\n",
       "      <td>0</td>\n",
       "      <td>0</td>\n",
       "      <td>0</td>\n",
       "      <td>0</td>\n",
       "    </tr>\n",
       "    <tr>\n",
       "      <th>2</th>\n",
       "      <td>0</td>\n",
       "      <td>0</td>\n",
       "      <td>0</td>\n",
       "      <td>0</td>\n",
       "      <td>0</td>\n",
       "      <td>0</td>\n",
       "      <td>0</td>\n",
       "      <td>0</td>\n",
       "      <td>0</td>\n",
       "      <td>0</td>\n",
       "      <td>...</td>\n",
       "      <td>0</td>\n",
       "      <td>0</td>\n",
       "      <td>0</td>\n",
       "      <td>0</td>\n",
       "      <td>0</td>\n",
       "      <td>0</td>\n",
       "      <td>0</td>\n",
       "      <td>0</td>\n",
       "      <td>0</td>\n",
       "      <td>0</td>\n",
       "    </tr>\n",
       "    <tr>\n",
       "      <th>3</th>\n",
       "      <td>0</td>\n",
       "      <td>0</td>\n",
       "      <td>0</td>\n",
       "      <td>0</td>\n",
       "      <td>0</td>\n",
       "      <td>0</td>\n",
       "      <td>0</td>\n",
       "      <td>0</td>\n",
       "      <td>0</td>\n",
       "      <td>0</td>\n",
       "      <td>...</td>\n",
       "      <td>0</td>\n",
       "      <td>0</td>\n",
       "      <td>0</td>\n",
       "      <td>0</td>\n",
       "      <td>0</td>\n",
       "      <td>0</td>\n",
       "      <td>0</td>\n",
       "      <td>0</td>\n",
       "      <td>0</td>\n",
       "      <td>0</td>\n",
       "    </tr>\n",
       "    <tr>\n",
       "      <th>4</th>\n",
       "      <td>0</td>\n",
       "      <td>0</td>\n",
       "      <td>0</td>\n",
       "      <td>0</td>\n",
       "      <td>0</td>\n",
       "      <td>0</td>\n",
       "      <td>0</td>\n",
       "      <td>0</td>\n",
       "      <td>0</td>\n",
       "      <td>0</td>\n",
       "      <td>...</td>\n",
       "      <td>0</td>\n",
       "      <td>0</td>\n",
       "      <td>0</td>\n",
       "      <td>0</td>\n",
       "      <td>0</td>\n",
       "      <td>0</td>\n",
       "      <td>0</td>\n",
       "      <td>0</td>\n",
       "      <td>0</td>\n",
       "      <td>0</td>\n",
       "    </tr>\n",
       "    <tr>\n",
       "      <th>5</th>\n",
       "      <td>0</td>\n",
       "      <td>0</td>\n",
       "      <td>0</td>\n",
       "      <td>0</td>\n",
       "      <td>0</td>\n",
       "      <td>0</td>\n",
       "      <td>0</td>\n",
       "      <td>0</td>\n",
       "      <td>0</td>\n",
       "      <td>0</td>\n",
       "      <td>...</td>\n",
       "      <td>0</td>\n",
       "      <td>0</td>\n",
       "      <td>0</td>\n",
       "      <td>0</td>\n",
       "      <td>0</td>\n",
       "      <td>0</td>\n",
       "      <td>0</td>\n",
       "      <td>0</td>\n",
       "      <td>0</td>\n",
       "      <td>0</td>\n",
       "    </tr>\n",
       "    <tr>\n",
       "      <th>...</th>\n",
       "      <td>...</td>\n",
       "      <td>...</td>\n",
       "      <td>...</td>\n",
       "      <td>...</td>\n",
       "      <td>...</td>\n",
       "      <td>...</td>\n",
       "      <td>...</td>\n",
       "      <td>...</td>\n",
       "      <td>...</td>\n",
       "      <td>...</td>\n",
       "      <td>...</td>\n",
       "      <td>...</td>\n",
       "      <td>...</td>\n",
       "      <td>...</td>\n",
       "      <td>...</td>\n",
       "      <td>...</td>\n",
       "      <td>...</td>\n",
       "      <td>...</td>\n",
       "      <td>...</td>\n",
       "      <td>...</td>\n",
       "      <td>...</td>\n",
       "    </tr>\n",
       "    <tr>\n",
       "      <th>10252</th>\n",
       "      <td>0</td>\n",
       "      <td>0</td>\n",
       "      <td>0</td>\n",
       "      <td>0</td>\n",
       "      <td>0</td>\n",
       "      <td>0</td>\n",
       "      <td>0</td>\n",
       "      <td>0</td>\n",
       "      <td>0</td>\n",
       "      <td>0</td>\n",
       "      <td>...</td>\n",
       "      <td>0</td>\n",
       "      <td>0</td>\n",
       "      <td>0</td>\n",
       "      <td>0</td>\n",
       "      <td>0</td>\n",
       "      <td>0</td>\n",
       "      <td>0</td>\n",
       "      <td>0</td>\n",
       "      <td>0</td>\n",
       "      <td>0</td>\n",
       "    </tr>\n",
       "    <tr>\n",
       "      <th>10253</th>\n",
       "      <td>0</td>\n",
       "      <td>0</td>\n",
       "      <td>0</td>\n",
       "      <td>0</td>\n",
       "      <td>0</td>\n",
       "      <td>0</td>\n",
       "      <td>0</td>\n",
       "      <td>0</td>\n",
       "      <td>0</td>\n",
       "      <td>0</td>\n",
       "      <td>...</td>\n",
       "      <td>0</td>\n",
       "      <td>0</td>\n",
       "      <td>0</td>\n",
       "      <td>0</td>\n",
       "      <td>0</td>\n",
       "      <td>0</td>\n",
       "      <td>0</td>\n",
       "      <td>0</td>\n",
       "      <td>0</td>\n",
       "      <td>0</td>\n",
       "    </tr>\n",
       "    <tr>\n",
       "      <th>10254</th>\n",
       "      <td>0</td>\n",
       "      <td>0</td>\n",
       "      <td>0</td>\n",
       "      <td>0</td>\n",
       "      <td>0</td>\n",
       "      <td>0</td>\n",
       "      <td>0</td>\n",
       "      <td>0</td>\n",
       "      <td>0</td>\n",
       "      <td>0</td>\n",
       "      <td>...</td>\n",
       "      <td>0</td>\n",
       "      <td>0</td>\n",
       "      <td>0</td>\n",
       "      <td>0</td>\n",
       "      <td>0</td>\n",
       "      <td>0</td>\n",
       "      <td>0</td>\n",
       "      <td>0</td>\n",
       "      <td>0</td>\n",
       "      <td>0</td>\n",
       "    </tr>\n",
       "    <tr>\n",
       "      <th>10255</th>\n",
       "      <td>0</td>\n",
       "      <td>0</td>\n",
       "      <td>0</td>\n",
       "      <td>0</td>\n",
       "      <td>0</td>\n",
       "      <td>0</td>\n",
       "      <td>0</td>\n",
       "      <td>0</td>\n",
       "      <td>0</td>\n",
       "      <td>0</td>\n",
       "      <td>...</td>\n",
       "      <td>0</td>\n",
       "      <td>0</td>\n",
       "      <td>0</td>\n",
       "      <td>0</td>\n",
       "      <td>0</td>\n",
       "      <td>0</td>\n",
       "      <td>0</td>\n",
       "      <td>0</td>\n",
       "      <td>0</td>\n",
       "      <td>0</td>\n",
       "    </tr>\n",
       "    <tr>\n",
       "      <th>10256</th>\n",
       "      <td>0</td>\n",
       "      <td>0</td>\n",
       "      <td>0</td>\n",
       "      <td>0</td>\n",
       "      <td>0</td>\n",
       "      <td>0</td>\n",
       "      <td>0</td>\n",
       "      <td>0</td>\n",
       "      <td>0</td>\n",
       "      <td>0</td>\n",
       "      <td>...</td>\n",
       "      <td>0</td>\n",
       "      <td>0</td>\n",
       "      <td>0</td>\n",
       "      <td>0</td>\n",
       "      <td>0</td>\n",
       "      <td>0</td>\n",
       "      <td>0</td>\n",
       "      <td>0</td>\n",
       "      <td>0</td>\n",
       "      <td>0</td>\n",
       "    </tr>\n",
       "  </tbody>\n",
       "</table>\n",
       "<p>10256 rows × 2409 columns</p>\n",
       "</div>"
      ],
      "text/plain": [
       "product_id  1     2     3     4     5     6     7     8     9     10    ...  \\\n",
       "user_id                                                                 ...   \n",
       "1              0     0     0     0     0     0     0     0     0     0  ...   \n",
       "2              0     0     0     0     0     0     0     0     0     0  ...   \n",
       "3              0     0     0     0     0     0     0     0     0     0  ...   \n",
       "4              0     0     0     0     0     0     0     0     0     0  ...   \n",
       "5              0     0     0     0     0     0     0     0     0     0  ...   \n",
       "...          ...   ...   ...   ...   ...   ...   ...   ...   ...   ...  ...   \n",
       "10252          0     0     0     0     0     0     0     0     0     0  ...   \n",
       "10253          0     0     0     0     0     0     0     0     0     0  ...   \n",
       "10254          0     0     0     0     0     0     0     0     0     0  ...   \n",
       "10255          0     0     0     0     0     0     0     0     0     0  ...   \n",
       "10256          0     0     0     0     0     0     0     0     0     0  ...   \n",
       "\n",
       "product_id  2400  2401  2402  2403  2404  2405  2406  2407  2408  2409  \n",
       "user_id                                                                 \n",
       "1              0     0     0     0     0     0     0     0     0     0  \n",
       "2              0     0     0     0     0     0     0     0     0     0  \n",
       "3              0     0     0     0     0     0     0     0     0     0  \n",
       "4              0     0     0     0     0     0     0     0     0     0  \n",
       "5              0     0     0     0     0     0     0     0     0     0  \n",
       "...          ...   ...   ...   ...   ...   ...   ...   ...   ...   ...  \n",
       "10252          0     0     0     0     0     0     0     0     0     0  \n",
       "10253          0     0     0     0     0     0     0     0     0     0  \n",
       "10254          0     0     0     0     0     0     0     0     0     0  \n",
       "10255          0     0     0     0     0     0     0     0     0     0  \n",
       "10256          0     0     0     0     0     0     0     0     0     0  \n",
       "\n",
       "[10256 rows x 2409 columns]"
      ]
     },
     "execution_count": 22,
     "metadata": {},
     "output_type": "execute_result"
    }
   ],
   "source": [
    "user_item"
   ]
  },
  {
   "cell_type": "code",
   "execution_count": 23,
   "id": "c0efb107",
   "metadata": {
    "scrolled": true
   },
   "outputs": [
    {
     "data": {
      "text/plain": [
       "((2409,), (10256, 10256), (2409, 2409))"
      ]
     },
     "execution_count": 23,
     "metadata": {},
     "output_type": "execute_result"
    }
   ],
   "source": [
    "u, s, vt = np.linalg.svd(user_item) # use the built in to get the three matrices\n",
    "\n",
    "s.shape, u.shape, vt.shape"
   ]
  },
  {
   "cell_type": "markdown",
   "id": "02824187",
   "metadata": {},
   "source": [
    "As we dont have missing value on our matrix, we can use SVD instead of FunkSVD"
   ]
  },
  {
   "cell_type": "code",
   "execution_count": 44,
   "id": "397ca834",
   "metadata": {},
   "outputs": [],
   "source": [
    "df_train = df.head(20000)\n",
    "df_test = df.tail(8144)\n",
    "\n",
    "def create_test_and_train_user_item(df_train, df_test):\n",
    "    '''\n",
    "    INPUT:\n",
    "    df_train - training dataframe\n",
    "    df_test - test dataframe\n",
    "    \n",
    "    OUTPUT:\n",
    "    user_item_train - a user-item matrix of the training dataframe \n",
    "                      (unique users for each row and unique articles for each column)\n",
    "    user_item_test - a user-item matrix of the testing dataframe \n",
    "                    (unique users for each row and unique articles for each column)\n",
    "    test_idx - all of the test user ids\n",
    "    test_beers - all of the test beers ids\n",
    "    \n",
    "    '''\n",
    "    # Your code here\n",
    "    \n",
    "    user_item_train = create_user_item_matrix(df_train)\n",
    "    \n",
    "    user_item_test = create_user_item_matrix(df_test)\n",
    "    \n",
    "    test_idx = list(df_test[\"user_id\"].unique())\n",
    "    \n",
    "    test_beer = list(df_test[\"product_id\"].unique())\n",
    "    \n",
    "    return user_item_train, user_item_test, test_idx, test_beer\n"
   ]
  },
  {
   "cell_type": "code",
   "execution_count": 45,
   "id": "c6a8e2b6",
   "metadata": {},
   "outputs": [
    {
     "data": {
      "text/plain": [
       "((8728, 2065), (2325, 1205), 2325, 1205)"
      ]
     },
     "execution_count": 45,
     "metadata": {},
     "output_type": "execute_result"
    }
   ],
   "source": [
    "user_item_train, user_item_test, test_idx, test_beer = create_test_and_train_user_item(df_train, df_test)\n",
    "\n",
    "user_item_train.shape, user_item_test.shape, len(test_idx), len(test_beer)"
   ]
  },
  {
   "cell_type": "code",
   "execution_count": 46,
   "id": "404b9725",
   "metadata": {},
   "outputs": [
    {
     "data": {
      "text/plain": [
       "797"
      ]
     },
     "execution_count": 46,
     "metadata": {},
     "output_type": "execute_result"
    }
   ],
   "source": [
    "# users that we can make prediction\n",
    "len(np.intersect1d(list(df_train['user_id'].unique()), test_idx))"
   ]
  },
  {
   "cell_type": "code",
   "execution_count": 47,
   "id": "ddf9d435",
   "metadata": {},
   "outputs": [
    {
     "data": {
      "text/plain": [
       "1528"
      ]
     },
     "execution_count": 47,
     "metadata": {},
     "output_type": "execute_result"
    }
   ],
   "source": [
    "# users that we can't make prediction\n",
    "len(test_idx) - len(np.intersect1d(list(df_train['user_id'].unique()), test_idx))"
   ]
  },
  {
   "cell_type": "code",
   "execution_count": 48,
   "id": "9ddeb4de",
   "metadata": {},
   "outputs": [
    {
     "data": {
      "text/plain": [
       "861"
      ]
     },
     "execution_count": 48,
     "metadata": {},
     "output_type": "execute_result"
    }
   ],
   "source": [
    "#Beers that we can made predictions\n",
    "len(np.intersect1d(list(df_train['product_id'].unique()), test_beer))"
   ]
  },
  {
   "cell_type": "code",
   "execution_count": 49,
   "id": "06e05ccb",
   "metadata": {},
   "outputs": [
    {
     "data": {
      "text/plain": [
       "344"
      ]
     },
     "execution_count": 49,
     "metadata": {},
     "output_type": "execute_result"
    }
   ],
   "source": [
    "#Beers that we cant made predictions\n",
    "len(test_beer) - len(np.intersect1d(list(df_train['product_id'].unique()), test_beer))"
   ]
  },
  {
   "cell_type": "code",
   "execution_count": 50,
   "id": "ae04d19e",
   "metadata": {},
   "outputs": [
    {
     "data": {
      "text/plain": [
       "((2065,), (8728, 8728), (2065, 2065))"
      ]
     },
     "execution_count": 50,
     "metadata": {},
     "output_type": "execute_result"
    }
   ],
   "source": [
    "# fit SVD on the user_item_train matrix\n",
    "u_train, s_train, vt_train =  np.linalg.svd(user_item_train)# fit svd similar to above then use the cells below\n",
    "\n",
    "s_train.shape, u_train.shape, vt_train.shape"
   ]
  },
  {
   "cell_type": "code",
   "execution_count": 51,
   "id": "2c88f7c3",
   "metadata": {},
   "outputs": [],
   "source": [
    "# Use these cells to see how well you can use the training \n",
    "# decomposition to predict on test data\n",
    "train_idx = list(df_train['user_id'].unique())\n",
    "train_beers = list(df_train['product_id'].unique())\n",
    "\n",
    "intersect_users = np.intersect1d(train_idx, test_idx) \n",
    "intersect_beers = np.intersect1d(train_beers, test_beer)\n",
    "\n",
    "\n",
    "# Get new matrix idx for intersect users and articles\n",
    "\n",
    "new_train_idx = np.where(np.in1d(train_idx, intersect_users))[0]\n",
    "new_train_beers = np.where(np.in1d(train_beers, intersect_beers))[0]\n",
    "\n",
    "new_test_idx = np.where(np.in1d(test_idx, intersect_users))[0]\n",
    "new_test_beers = np.where(np.in1d(test_beer, intersect_beers))[0]"
   ]
  },
  {
   "cell_type": "code",
   "execution_count": 52,
   "id": "910bfeaa",
   "metadata": {},
   "outputs": [
    {
     "data": {
      "text/plain": [
       "(2325, 1205)"
      ]
     },
     "execution_count": 52,
     "metadata": {},
     "output_type": "execute_result"
    }
   ],
   "source": [
    "user_item_test.shape"
   ]
  },
  {
   "cell_type": "code",
   "execution_count": 53,
   "id": "445dce15",
   "metadata": {},
   "outputs": [
    {
     "name": "stdout",
     "output_type": "stream",
     "text": [
      "(797, 861)\n"
     ]
    },
    {
     "data": {
      "text/plain": [
       "(797, 861)"
      ]
     },
     "execution_count": 53,
     "metadata": {},
     "output_type": "execute_result"
    }
   ],
   "source": [
    "#Mout new train and test matrix using only interct values\n",
    "\n",
    "test_set = user_item_test.iloc[new_test_idx,new_test_beers]\n",
    "train_set = user_item_train.iloc[new_train_idx, new_train_beers]\n",
    "\n",
    "\n",
    "print(train_set.shape)\n",
    "test_set.shape"
   ]
  },
  {
   "cell_type": "code",
   "execution_count": 54,
   "id": "1ff71ea1",
   "metadata": {},
   "outputs": [
    {
     "data": {
      "text/plain": [
       "(797, 861)"
      ]
     },
     "execution_count": 54,
     "metadata": {},
     "output_type": "execute_result"
    }
   ],
   "source": [
    "latent_features = np.arange(1,601,5)\n",
    "err = []\n",
    "\n",
    "for k in latent_features:\n",
    "\n",
    "    # Update shape of u, s and vt for train matrix\n",
    "    s_train_k = np.zeros((k, k))\n",
    "    s_train_k[:k, :k] = np.diag(s_train[:k])\n",
    "\n",
    "    u_train_k = u_train[:, :k]\n",
    "    vt_train_k =  vt_train[:k, :]\n",
    "    \n",
    "    # Update shape of u, s and vt for test matrix \n",
    "    s_test_k = s_train_k\n",
    "\n",
    "    u_test_k = u_train_k[new_train_idx,:]\n",
    "    vt_test_k =  vt_train_k[:,new_train_beers]\n",
    "    \n",
    "    # Compute the dot product\n",
    "    pred_ratings = np.dot(np.dot(u_test_k, s_test_k), vt_test_k)\n",
    "\n",
    "    # Compute the squared error for each predicted vs. actual rating\n",
    "    sum_square_errs = np.sum(np.sum((test_set - pred_ratings)**2))\n",
    "    \n",
    "    err.append(sum_square_errs)\n",
    "\n",
    "test_set.shape"
   ]
  },
  {
   "cell_type": "code",
   "execution_count": 55,
   "id": "f5346475",
   "metadata": {},
   "outputs": [
    {
     "data": {
      "image/png": "[encoded data removed]",
      "text/plain": [
       "<Figure size 432x288 with 1 Axes>"
      ]
     },
     "metadata": {
      "needs_background": "light"
     },
     "output_type": "display_data"
    }
   ],
   "source": [
    "plt.plot(latent_features, err)\n",
    "plt.title('SSE for latent feature')\n",
    "plt.xlabel('Latent Features')\n",
    "plt.ylabel('SSE')\n",
    "plt.show()"
   ]
  },
  {
   "cell_type": "code",
   "execution_count": null,
   "id": "798e8f74",
   "metadata": {},
   "outputs": [],
   "source": []
  },
  {
   "cell_type": "code",
   "execution_count": null,
   "id": "5ee88e14",
   "metadata": {},
   "outputs": [],
   "source": []
  },
  {
   "cell_type": "code",
   "execution_count": null,
   "id": "5f23b174",
   "metadata": {},
   "outputs": [],
   "source": []
  },
  {
   "cell_type": "code",
   "execution_count": null,
   "id": "f0bfa317",
   "metadata": {},
   "outputs": [],
   "source": []
  },
  {
   "cell_type": "markdown",
   "id": "4891aa2e",
   "metadata": {},
   "source": [
    "Pontos de atenção:\n",
    "-> Usuário consumir um produto uma vez, ou 100 vezes tem o mesmo peso para o modelo"
   ]
  }
 ],
 "metadata": {
  "kernelspec": {
   "display_name": "Python 3 (ipykernel)",
   "language": "python",
   "name": "python3"
  },
  "language_info": {
   "codemirror_mode": {
    "name": "ipython",
    "version": 3
   },
   "file_extension": ".py",
   "mimetype": "text/x-python",
   "name": "python",
   "nbconvert_exporter": "python",
   "pygments_lexer": "ipython3",
   "version": "3.8.10"
  }
 },
 "nbformat": 4,
 "nbformat_minor": 5
}
