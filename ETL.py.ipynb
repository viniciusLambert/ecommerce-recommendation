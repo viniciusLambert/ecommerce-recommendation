{
 "cells": [
  {
   "cell_type": "markdown",
   "id": "f0d365c4",
   "metadata": {},
   "source": [
    "# Create craft beer consuming data\n",
    "\n",
    "This notebook create a fake data frame that relate users buyings to craft beers.\n",
    "\n",
    "The output dataframe was contructed based on two notebooks that you can found here:\n",
    "\n",
    "### [eCommerce purchase history from eletronics store](https://www.kaggle.com/datasets/mkechinov/ecommerce-purchase-history-from-electronics-store)\n",
    "\n",
    "### [Craft Beers Dataset](https://www.kaggle.com/datasets/nickhould/craft-cans/code)"
   ]
  },
  {
   "cell_type": "code",
   "execution_count": 1,
   "id": "2be6487b",
   "metadata": {},
   "outputs": [],
   "source": [
    "import pandas as pd"
   ]
  },
  {
   "cell_type": "code",
   "execution_count": 2,
   "id": "1d1ed0f8",
   "metadata": {},
   "outputs": [
    {
     "data": {
      "text/html": [
       "<div>\n",
       "<style scoped>\n",
       "    .dataframe tbody tr th:only-of-type {\n",
       "        vertical-align: middle;\n",
       "    }\n",
       "\n",
       "    .dataframe tbody tr th {\n",
       "        vertical-align: top;\n",
       "    }\n",
       "\n",
       "    .dataframe thead th {\n",
       "        text-align: right;\n",
       "    }\n",
       "</style>\n",
       "<table border=\"1\" class=\"dataframe\">\n",
       "  <thead>\n",
       "    <tr style=\"text-align: right;\">\n",
       "      <th></th>\n",
       "      <th>abv</th>\n",
       "      <th>ibu</th>\n",
       "      <th>name</th>\n",
       "      <th>style</th>\n",
       "      <th>brewery_id</th>\n",
       "      <th>ounces</th>\n",
       "    </tr>\n",
       "    <tr>\n",
       "      <th>id</th>\n",
       "      <th></th>\n",
       "      <th></th>\n",
       "      <th></th>\n",
       "      <th></th>\n",
       "      <th></th>\n",
       "      <th></th>\n",
       "    </tr>\n",
       "  </thead>\n",
       "  <tbody>\n",
       "    <tr>\n",
       "      <th>1436</th>\n",
       "      <td>0.050</td>\n",
       "      <td>NaN</td>\n",
       "      <td>Pub Beer</td>\n",
       "      <td>American Pale Lager</td>\n",
       "      <td>408</td>\n",
       "      <td>12.0</td>\n",
       "    </tr>\n",
       "    <tr>\n",
       "      <th>2265</th>\n",
       "      <td>0.066</td>\n",
       "      <td>NaN</td>\n",
       "      <td>Devil's Cup</td>\n",
       "      <td>American Pale Ale (APA)</td>\n",
       "      <td>177</td>\n",
       "      <td>12.0</td>\n",
       "    </tr>\n",
       "    <tr>\n",
       "      <th>2264</th>\n",
       "      <td>0.071</td>\n",
       "      <td>NaN</td>\n",
       "      <td>Rise of the Phoenix</td>\n",
       "      <td>American IPA</td>\n",
       "      <td>177</td>\n",
       "      <td>12.0</td>\n",
       "    </tr>\n",
       "    <tr>\n",
       "      <th>2263</th>\n",
       "      <td>0.090</td>\n",
       "      <td>NaN</td>\n",
       "      <td>Sinister</td>\n",
       "      <td>American Double / Imperial IPA</td>\n",
       "      <td>177</td>\n",
       "      <td>12.0</td>\n",
       "    </tr>\n",
       "    <tr>\n",
       "      <th>2262</th>\n",
       "      <td>0.075</td>\n",
       "      <td>NaN</td>\n",
       "      <td>Sex and Candy</td>\n",
       "      <td>American IPA</td>\n",
       "      <td>177</td>\n",
       "      <td>12.0</td>\n",
       "    </tr>\n",
       "  </tbody>\n",
       "</table>\n",
       "</div>"
      ],
      "text/plain": [
       "        abv  ibu                 name                           style  \\\n",
       "id                                                                      \n",
       "1436  0.050  NaN             Pub Beer             American Pale Lager   \n",
       "2265  0.066  NaN          Devil's Cup         American Pale Ale (APA)   \n",
       "2264  0.071  NaN  Rise of the Phoenix                    American IPA   \n",
       "2263  0.090  NaN             Sinister  American Double / Imperial IPA   \n",
       "2262  0.075  NaN        Sex and Candy                    American IPA   \n",
       "\n",
       "      brewery_id  ounces  \n",
       "id                        \n",
       "1436         408    12.0  \n",
       "2265         177    12.0  \n",
       "2264         177    12.0  \n",
       "2263         177    12.0  \n",
       "2262         177    12.0  "
      ]
     },
     "execution_count": 2,
     "metadata": {},
     "output_type": "execute_result"
    }
   ],
   "source": [
    "beers = pd.read_csv(\"data/beers.csv\", index_col=\"id\")\n",
    "\n",
    "del beers['Unnamed: 0']\n",
    "\n",
    "beers.head()"
   ]
  },
  {
   "cell_type": "code",
   "execution_count": 3,
   "id": "884c534d",
   "metadata": {},
   "outputs": [],
   "source": [
    "df = pd.read_csv(\"data/user-item-interactions.csv\")"
   ]
  },
  {
   "cell_type": "code",
   "execution_count": 4,
   "id": "966693e5",
   "metadata": {},
   "outputs": [
    {
     "data": {
      "text/html": [
       "<div>\n",
       "<style scoped>\n",
       "    .dataframe tbody tr th:only-of-type {\n",
       "        vertical-align: middle;\n",
       "    }\n",
       "\n",
       "    .dataframe tbody tr th {\n",
       "        vertical-align: top;\n",
       "    }\n",
       "\n",
       "    .dataframe thead th {\n",
       "        text-align: right;\n",
       "    }\n",
       "</style>\n",
       "<table border=\"1\" class=\"dataframe\">\n",
       "  <thead>\n",
       "    <tr style=\"text-align: right;\">\n",
       "      <th></th>\n",
       "      <th>event_time</th>\n",
       "      <th>order_id</th>\n",
       "      <th>product_id</th>\n",
       "      <th>category_id</th>\n",
       "      <th>category_code</th>\n",
       "      <th>brand</th>\n",
       "      <th>price</th>\n",
       "      <th>user_id</th>\n",
       "    </tr>\n",
       "  </thead>\n",
       "  <tbody>\n",
       "    <tr>\n",
       "      <th>2633516</th>\n",
       "      <td>2020-11-21 10:10:01 UTC</td>\n",
       "      <td>2388440981134693942</td>\n",
       "      <td>1515966223526602848</td>\n",
       "      <td>2.268105e+18</td>\n",
       "      <td>electronics.smartphone</td>\n",
       "      <td>oppo</td>\n",
       "      <td>138.87</td>\n",
       "      <td>1.515916e+18</td>\n",
       "    </tr>\n",
       "    <tr>\n",
       "      <th>2633517</th>\n",
       "      <td>2020-11-21 10:10:13 UTC</td>\n",
       "      <td>2388440981134693943</td>\n",
       "      <td>1515966223509089282</td>\n",
       "      <td>2.268105e+18</td>\n",
       "      <td>electronics.smartphone</td>\n",
       "      <td>apple</td>\n",
       "      <td>418.96</td>\n",
       "      <td>1.515916e+18</td>\n",
       "    </tr>\n",
       "    <tr>\n",
       "      <th>2633518</th>\n",
       "      <td>2020-11-21 10:10:30 UTC</td>\n",
       "      <td>2388440981134693944</td>\n",
       "      <td>1515966223509089917</td>\n",
       "      <td>2.268105e+18</td>\n",
       "      <td>appliances.personal.scales</td>\n",
       "      <td>vitek</td>\n",
       "      <td>12.48</td>\n",
       "      <td>1.515916e+18</td>\n",
       "    </tr>\n",
       "    <tr>\n",
       "      <th>2633519</th>\n",
       "      <td>2020-11-21 10:10:30 UTC</td>\n",
       "      <td>2388440981134693944</td>\n",
       "      <td>2273948184839454837</td>\n",
       "      <td>2.268105e+18</td>\n",
       "      <td>NaN</td>\n",
       "      <td>moulinex</td>\n",
       "      <td>41.64</td>\n",
       "      <td>1.515916e+18</td>\n",
       "    </tr>\n",
       "    <tr>\n",
       "      <th>2633520</th>\n",
       "      <td>2020-11-21 10:10:30 UTC</td>\n",
       "      <td>2388440981134693944</td>\n",
       "      <td>1515966223509127566</td>\n",
       "      <td>2.268105e+18</td>\n",
       "      <td>appliances.kitchen.blender</td>\n",
       "      <td>redmond</td>\n",
       "      <td>53.22</td>\n",
       "      <td>1.515916e+18</td>\n",
       "    </tr>\n",
       "  </tbody>\n",
       "</table>\n",
       "</div>"
      ],
      "text/plain": [
       "                      event_time             order_id           product_id  \\\n",
       "2633516  2020-11-21 10:10:01 UTC  2388440981134693942  1515966223526602848   \n",
       "2633517  2020-11-21 10:10:13 UTC  2388440981134693943  1515966223509089282   \n",
       "2633518  2020-11-21 10:10:30 UTC  2388440981134693944  1515966223509089917   \n",
       "2633519  2020-11-21 10:10:30 UTC  2388440981134693944  2273948184839454837   \n",
       "2633520  2020-11-21 10:10:30 UTC  2388440981134693944  1515966223509127566   \n",
       "\n",
       "          category_id               category_code     brand   price  \\\n",
       "2633516  2.268105e+18      electronics.smartphone      oppo  138.87   \n",
       "2633517  2.268105e+18      electronics.smartphone     apple  418.96   \n",
       "2633518  2.268105e+18  appliances.personal.scales     vitek   12.48   \n",
       "2633519  2.268105e+18                         NaN  moulinex   41.64   \n",
       "2633520  2.268105e+18  appliances.kitchen.blender   redmond   53.22   \n",
       "\n",
       "              user_id  \n",
       "2633516  1.515916e+18  \n",
       "2633517  1.515916e+18  \n",
       "2633518  1.515916e+18  \n",
       "2633519  1.515916e+18  \n",
       "2633520  1.515916e+18  "
      ]
     },
     "execution_count": 4,
     "metadata": {},
     "output_type": "execute_result"
    }
   ],
   "source": [
    "df.tail()"
   ]
  },
  {
   "cell_type": "markdown",
   "id": "ede1148f",
   "metadata": {},
   "source": [
    "## Remove NA values\n",
    "\n",
    "unfortunaly non labelad user_id columns will not be useful in our analyses, so we need to drop then."
   ]
  },
  {
   "cell_type": "code",
   "execution_count": 5,
   "id": "9d3e3399",
   "metadata": {},
   "outputs": [
    {
     "data": {
      "text/plain": [
       "0"
      ]
     },
     "execution_count": 5,
     "metadata": {},
     "output_type": "execute_result"
    }
   ],
   "source": [
    "df.dropna(subset=['user_id'], inplace=True)\n",
    "\n",
    "df.user_id.isna().sum()"
   ]
  },
  {
   "cell_type": "markdown",
   "id": "cbfd5bfb",
   "metadata": {},
   "source": [
    "## Transform product_id hashs in sequential ints"
   ]
  },
  {
   "cell_type": "code",
   "execution_count": 6,
   "id": "8ea74ab3",
   "metadata": {},
   "outputs": [],
   "source": [
    "df['product_id'] = df['product_id'].rank(method='dense', ascending=False).astype(int)"
   ]
  },
  {
   "cell_type": "code",
   "execution_count": 7,
   "id": "81368fdc",
   "metadata": {
    "scrolled": true
   },
   "outputs": [
    {
     "name": "stdout",
     "output_type": "stream",
     "text": [
      "Dataset size before cuting (564169, 8)\n",
      "Unique product_id values before cuting (20964,)\n",
      "Dataset size before cuting (28144, 8)\n",
      "Unique product_id values before cuting (2409,)\n"
     ]
    }
   ],
   "source": [
    "# We want to keep only the product id lowers than 2409, that is the ids that we have in our\n",
    "# beers dataset.\n",
    "\n",
    "\n",
    "print(f\"Dataset size before cuting {df.shape}\")\n",
    "print(f\"Unique product_id values before cuting {df.product_id.unique().shape}\")\n",
    "df = df.loc[df[\"product_id\"] <= 2409]\n",
    "\n",
    "\n",
    "print(f\"Dataset size before cuting {df.shape}\")\n",
    "print(f\"Unique product_id values before cuting {df.product_id.unique().shape}\")\n"
   ]
  },
  {
   "cell_type": "markdown",
   "id": "3bb4b853",
   "metadata": {},
   "source": [
    "We only kept 10% of the dataset, what a pain...."
   ]
  },
  {
   "cell_type": "markdown",
   "id": "9f11e3d4",
   "metadata": {},
   "source": [
    "# Transform user_id hashs in sequential ints"
   ]
  },
  {
   "cell_type": "code",
   "execution_count": 8,
   "id": "0203a22e",
   "metadata": {},
   "outputs": [],
   "source": [
    "df['user_id'] = df['user_id'].rank(method='dense', ascending=False).astype(int)"
   ]
  },
  {
   "cell_type": "code",
   "execution_count": 9,
   "id": "b9b316f9",
   "metadata": {},
   "outputs": [
    {
     "data": {
      "text/html": [
       "<div>\n",
       "<style scoped>\n",
       "    .dataframe tbody tr th:only-of-type {\n",
       "        vertical-align: middle;\n",
       "    }\n",
       "\n",
       "    .dataframe tbody tr th {\n",
       "        vertical-align: top;\n",
       "    }\n",
       "\n",
       "    .dataframe thead th {\n",
       "        text-align: right;\n",
       "    }\n",
       "</style>\n",
       "<table border=\"1\" class=\"dataframe\">\n",
       "  <thead>\n",
       "    <tr style=\"text-align: right;\">\n",
       "      <th></th>\n",
       "      <th>product_id</th>\n",
       "      <th>order_id</th>\n",
       "      <th>user_id</th>\n",
       "    </tr>\n",
       "  </thead>\n",
       "  <tbody>\n",
       "    <tr>\n",
       "      <th>10028</th>\n",
       "      <td>2187</td>\n",
       "      <td>2310942933416673977</td>\n",
       "      <td>8147</td>\n",
       "    </tr>\n",
       "    <tr>\n",
       "      <th>15261</th>\n",
       "      <td>2059</td>\n",
       "      <td>2316136337087922698</td>\n",
       "      <td>8642</td>\n",
       "    </tr>\n",
       "    <tr>\n",
       "      <th>15947</th>\n",
       "      <td>2057</td>\n",
       "      <td>2316746918924911613</td>\n",
       "      <td>8563</td>\n",
       "    </tr>\n",
       "    <tr>\n",
       "      <th>16236</th>\n",
       "      <td>2133</td>\n",
       "      <td>2316899056305045560</td>\n",
       "      <td>9990</td>\n",
       "    </tr>\n",
       "    <tr>\n",
       "      <th>16866</th>\n",
       "      <td>1988</td>\n",
       "      <td>2317477536566608607</td>\n",
       "      <td>9437</td>\n",
       "    </tr>\n",
       "    <tr>\n",
       "      <th>...</th>\n",
       "      <td>...</td>\n",
       "      <td>...</td>\n",
       "      <td>...</td>\n",
       "    </tr>\n",
       "    <tr>\n",
       "      <th>2633493</th>\n",
       "      <td>1369</td>\n",
       "      <td>2388440981134693923</td>\n",
       "      <td>10046</td>\n",
       "    </tr>\n",
       "    <tr>\n",
       "      <th>2633494</th>\n",
       "      <td>388</td>\n",
       "      <td>2388440981134693923</td>\n",
       "      <td>10046</td>\n",
       "    </tr>\n",
       "    <tr>\n",
       "      <th>2633497</th>\n",
       "      <td>1082</td>\n",
       "      <td>2388440981134693926</td>\n",
       "      <td>4460</td>\n",
       "    </tr>\n",
       "    <tr>\n",
       "      <th>2633500</th>\n",
       "      <td>389</td>\n",
       "      <td>2388440981134693928</td>\n",
       "      <td>4290</td>\n",
       "    </tr>\n",
       "    <tr>\n",
       "      <th>2633504</th>\n",
       "      <td>997</td>\n",
       "      <td>2388440981134693931</td>\n",
       "      <td>8963</td>\n",
       "    </tr>\n",
       "  </tbody>\n",
       "</table>\n",
       "<p>28144 rows × 3 columns</p>\n",
       "</div>"
      ],
      "text/plain": [
       "         product_id             order_id  user_id\n",
       "10028          2187  2310942933416673977     8147\n",
       "15261          2059  2316136337087922698     8642\n",
       "15947          2057  2316746918924911613     8563\n",
       "16236          2133  2316899056305045560     9990\n",
       "16866          1988  2317477536566608607     9437\n",
       "...             ...                  ...      ...\n",
       "2633493        1369  2388440981134693923    10046\n",
       "2633494         388  2388440981134693923    10046\n",
       "2633497        1082  2388440981134693926     4460\n",
       "2633500         389  2388440981134693928     4290\n",
       "2633504         997  2388440981134693931     8963\n",
       "\n",
       "[28144 rows x 3 columns]"
      ]
     },
     "execution_count": 9,
     "metadata": {},
     "output_type": "execute_result"
    }
   ],
   "source": [
    "df = df[[\"product_id\", \"order_id\", \"user_id\"]]\n",
    "df"
   ]
  },
  {
   "cell_type": "markdown",
   "id": "0e62e9b1",
   "metadata": {},
   "source": [
    "# Store dataset"
   ]
  },
  {
   "cell_type": "code",
   "execution_count": 10,
   "id": "8e793c72",
   "metadata": {},
   "outputs": [],
   "source": [
    "df.to_csv('data/user_interactions.csv')"
   ]
  },
  {
   "cell_type": "code",
   "execution_count": 11,
   "id": "79df7cfd",
   "metadata": {},
   "outputs": [
    {
     "data": {
      "text/html": [
       "<div>\n",
       "<style scoped>\n",
       "    .dataframe tbody tr th:only-of-type {\n",
       "        vertical-align: middle;\n",
       "    }\n",
       "\n",
       "    .dataframe tbody tr th {\n",
       "        vertical-align: top;\n",
       "    }\n",
       "\n",
       "    .dataframe thead th {\n",
       "        text-align: right;\n",
       "    }\n",
       "</style>\n",
       "<table border=\"1\" class=\"dataframe\">\n",
       "  <thead>\n",
       "    <tr style=\"text-align: right;\">\n",
       "      <th></th>\n",
       "      <th>Unnamed: 0</th>\n",
       "      <th>product_id</th>\n",
       "      <th>order_id</th>\n",
       "      <th>user_id</th>\n",
       "    </tr>\n",
       "  </thead>\n",
       "  <tbody>\n",
       "    <tr>\n",
       "      <th>0</th>\n",
       "      <td>10028</td>\n",
       "      <td>2187</td>\n",
       "      <td>2310942933416673977</td>\n",
       "      <td>8147</td>\n",
       "    </tr>\n",
       "    <tr>\n",
       "      <th>1</th>\n",
       "      <td>15261</td>\n",
       "      <td>2059</td>\n",
       "      <td>2316136337087922698</td>\n",
       "      <td>8642</td>\n",
       "    </tr>\n",
       "    <tr>\n",
       "      <th>2</th>\n",
       "      <td>15947</td>\n",
       "      <td>2057</td>\n",
       "      <td>2316746918924911613</td>\n",
       "      <td>8563</td>\n",
       "    </tr>\n",
       "    <tr>\n",
       "      <th>3</th>\n",
       "      <td>16236</td>\n",
       "      <td>2133</td>\n",
       "      <td>2316899056305045560</td>\n",
       "      <td>9990</td>\n",
       "    </tr>\n",
       "    <tr>\n",
       "      <th>4</th>\n",
       "      <td>16866</td>\n",
       "      <td>1988</td>\n",
       "      <td>2317477536566608607</td>\n",
       "      <td>9437</td>\n",
       "    </tr>\n",
       "  </tbody>\n",
       "</table>\n",
       "</div>"
      ],
      "text/plain": [
       "   Unnamed: 0  product_id             order_id  user_id\n",
       "0       10028        2187  2310942933416673977     8147\n",
       "1       15261        2059  2316136337087922698     8642\n",
       "2       15947        2057  2316746918924911613     8563\n",
       "3       16236        2133  2316899056305045560     9990\n",
       "4       16866        1988  2317477536566608607     9437"
      ]
     },
     "execution_count": 11,
     "metadata": {},
     "output_type": "execute_result"
    }
   ],
   "source": [
    "pd.read_csv(\"data/user_interactions.csv\").head()"
   ]
  },
  {
   "cell_type": "code",
   "execution_count": null,
   "id": "8b785340",
   "metadata": {},
   "outputs": [],
   "source": []
  }
 ],
 "metadata": {
  "kernelspec": {
   "display_name": "Python 3 (ipykernel)",
   "language": "python",
   "name": "python3"
  },
  "language_info": {
   "codemirror_mode": {
    "name": "ipython",
    "version": 3
   },
   "file_extension": ".py",
   "mimetype": "text/x-python",
   "name": "python",
   "nbconvert_exporter": "python",
   "pygments_lexer": "ipython3",
   "version": "3.8.10"
  }
 },
 "nbformat": 4,
 "nbformat_minor": 5
}
